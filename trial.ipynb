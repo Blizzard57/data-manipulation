{
 "cells": [
  {
   "cell_type": "code",
   "execution_count": 12,
   "metadata": {},
   "outputs": [],
   "source": [
    "import ROOT as r\n",
    "from pyHepMC3 import HepMC3 as hm\n",
    "from array import array\n",
    "from tqdm import tqdm\n",
    "from pyHepMC3.rootIO import HepMC3 as hmrootIO"
   ]
  },
  {
   "cell_type": "markdown",
   "metadata": {},
   "source": [
    "## File Format Conversion\n",
    "\n",
    "This is the testing site which helps in file format converisons. Currently these are the conversions being supported :\n",
    "\n",
    "- HepMC\n",
    "- Root\n",
    "- LHEF\n",
    "- ASCII\n",
    "- HDF5"
   ]
  },
  {
   "cell_type": "code",
   "execution_count": 19,
   "metadata": {},
   "outputs": [
    {
     "data": {
      "text/plain": [
       "1"
      ]
     },
     "execution_count": 19,
     "metadata": {},
     "output_type": "execute_result"
    }
   ],
   "source": [
    "r.gSystem.Load(\"libExRootAnalysis.so\")"
   ]
  },
  {
   "cell_type": "code",
   "execution_count": 14,
   "metadata": {},
   "outputs": [],
   "source": [
    "class Convert():\n",
    "    def __init__(self):\n",
    "        self.input_file = None\n",
    "        self.output_file = None\n",
    "\n",
    "    def add_input_file(self,input_file):\n",
    "        self.input_file = input_file\n",
    "\n",
    "    def add_output_file(self,output_file):\n",
    "        self.output_file = output_file\n",
    "\n",
    "    def convert_hepMC2_root(self):\n",
    "        input_hep = hm.ReaderAsciiHepMC2(self.input_file)\n",
    "        \n",
    "        if input_hep.failed():\n",
    "            raise ValueError('ERROR : Could not read HepMC2 file successfully.')\n",
    "\n",
    "        output_root = hmrootIO.WriterRootTree(self.output_file)\n",
    "        if output_root.failed():\n",
    "            raise ValueError('ERROR : Could not open ROOT file successfully.')\n",
    "\n",
    "        while not input_hep.failed():\n",
    "            evt = hm.GenEvent()\n",
    "            input_hep.read_event(evt)\n",
    "            if input_hep.failed():\n",
    "                print(\"INFO : File successfully converted\")\n",
    "                break\n",
    "\n",
    "            output_root.write_event(evt)\n",
    "            evt.clear()\n",
    "        \n",
    "        input_hep.close()\n",
    "        output_root.close()\n",
    "\n",
    "    def convert_root_hepMC2(self):\n",
    "        input_root = hmrootIO.ReaderRootTree(self.input_file)\n",
    "        if input_root.failed():\n",
    "            raise ValueError('ERROR : Could not read ROOT file successfully.')\n",
    "\n",
    "        output_hep = hm.WriterAsciiHepMC2(self.output_file)\n",
    "        if output_hep.failed():\n",
    "            raise ValueError('ERROR : Could not open HepMC2 file successfully.')\n",
    "        \n",
    "        while not input_root.failed():\n",
    "            evt = hm.GenEvent()\n",
    "            input_root.read_event(evt)\n",
    "            if input_root.failed():\n",
    "                print(\"INFO : File successfully converted\")\n",
    "                break\n",
    "            output_hep.write_event(evt)\n",
    "            evt.clear()\n",
    "        \n",
    "        input_root.close()\n",
    "        output_hep.close()\n",
    "\n",
    "    def convert_lhe_root(self):\n",
    "        events = []\n",
    "        event = \"\"\n",
    "        in_event = False\n",
    "        with open(self.input_file, \"r\") as fhin:\n",
    "            for line in tqdm(fhin):\n",
    "            \n",
    "                if in_event and line.startswith(\"<\"):\n",
    "                    in_event = False\n",
    "                    events.append(event)\n",
    "                    event = \"\"\n",
    "    \n",
    "                if in_event:\n",
    "                    event += line\n",
    "    \n",
    "                if line.startswith(\"<event>\"):\n",
    "                    in_event = True\n",
    "    \n",
    "            if event:\n",
    "                events.append(event)\n",
    "    \n",
    "        f1 = r.TFile(self.output_file, \"recreate\")\n",
    "        t1 = r.TTree(\"t\",\"t\")\n",
    "    \n",
    "        pdgid = array( 'i', [ 0 ] )\n",
    "        bevent = array( 'i', [ 0 ] )\n",
    "        status = array( 'i', [ 0 ] )\n",
    "        parent1 = array( 'i', [ 0 ] )\n",
    "        parent2 = array( 'i', [ 0 ] )\n",
    "        color1 = array( 'i', [ 0 ] )\n",
    "        color2 = array( 'i', [ 0 ] )\n",
    "        mass = array( 'd', [ 0 ] )\n",
    "        spin = array( 'd', [ 0 ] )\n",
    "        p4 = r.TLorentzVector(1,1,0,5)\n",
    "    \n",
    "        t1.Branch(\"id\",pdgid, \"id/I\")\n",
    "        t1.Branch(\"event\",bevent, \"event/I\")\n",
    "        t1.Branch(\"status\",status, \"status/I\")\n",
    "        t1.Branch(\"parent1\",parent1, \"parent1/I\")\n",
    "        t1.Branch(\"parent2\",parent2, \"parent2/I\")\n",
    "        t1.Branch(\"color1\",color1, \"color1/I\")\n",
    "        t1.Branch(\"color2\",color2, \"color2/I\")\n",
    "        t1.Branch(\"mass\",mass, \"mass/F\")\n",
    "        t1.Branch(\"spin\",spin, \"spin/F\")\n",
    "        t1.Branch(\"p4.\",\"TLorentzVector\",p4)\n",
    "    \n",
    "        for ievt,evt in tqdm(enumerate(events)):\n",
    "            particle_lines = evt.splitlines()[1:]\n",
    "            for particle_line in particle_lines:\n",
    "                parts = particle_line.split()\n",
    "                evt_pdgid = int(parts[0])\n",
    "                evt_status = int(parts[1])\n",
    "                evt_parent1 = int(parts[2])\n",
    "                evt_parent2 = int(parts[3])\n",
    "                evt_color1 = int(parts[4])\n",
    "                evt_color2 = int(parts[5])\n",
    "                evt_px, evt_py, evt_pz, evt_e = map(float,parts[6:10])\n",
    "                evt_mass = float(parts[10])\n",
    "                evt_spin = float(parts[11])\n",
    "    \n",
    "                p4.SetPxPyPzE(evt_px, evt_py, evt_pz, evt_e)\n",
    "    \n",
    "                bevent[0] = ievt\n",
    "                pdgid[0] = evt_pdgid\n",
    "                status[0] = evt_status\n",
    "                parent1[0] = evt_parent1\n",
    "                parent2[0] = evt_parent2\n",
    "                color1[0] = evt_color1\n",
    "                color2[0] = evt_color2\n",
    "                mass[0] = evt_mass\n",
    "                spin[0] = evt_spin\n",
    "    \n",
    "                t1.Fill()\n",
    "    \n",
    "        t1.Print()\n",
    "        t1.Write()\n",
    "        f1.Close()\n",
    "\n",
    "    def sanitize_format(self,file_format):\n",
    "        return file_format.lower()\n",
    "\n",
    "    def get_convert_table(self):\n",
    "        self.convert_dict = {\n",
    "            'root' : {\n",
    "                'hepmc2' : self.convert_root_hepMC2\n",
    "                },\n",
    "            'hepmc2' : {\n",
    "                'root' : self.convert_hepMC2_root\n",
    "                },\n",
    "            'lhe' : {\n",
    "                'root' : self.convert_lhe_root\n",
    "            }\n",
    "            }\n",
    "\n",
    "    def convert_menu(self,input_file,output_file,input_format,output_format):\n",
    "        self.add_input_file(input_file)\n",
    "        self.add_output_file(output_file)\n",
    "        self.get_convert_table()\n",
    "\n",
    "        input_format = self.sanitize_format(input_format)\n",
    "        output_format = self.sanitize_format(output_format)\n",
    "\n",
    "        self.convert_dict[input_format][output_format]()\n",
    "\n"
   ]
  },
  {
   "cell_type": "code",
   "execution_count": 15,
   "metadata": {},
   "outputs": [
    {
     "name": "stderr",
     "output_type": "stream",
     "text": [
      "0it [00:00, ?it/s]\n"
     ]
    },
    {
     "ename": "UnicodeDecodeError",
     "evalue": "'utf-8' codec can't decode byte 0xf3 in position 6: invalid continuation byte",
     "output_type": "error",
     "traceback": [
      "\u001b[0;31m---------------------------------------------------------------------------\u001b[0m",
      "\u001b[0;31mUnicodeDecodeError\u001b[0m                        Traceback (most recent call last)",
      "\u001b[0;32m/tmp/ipykernel_20815/690345619.py\u001b[0m in \u001b[0;36m<module>\u001b[0;34m\u001b[0m\n\u001b[1;32m      1\u001b[0m \u001b[0mc1\u001b[0m \u001b[0;34m=\u001b[0m \u001b[0mConvert\u001b[0m\u001b[0;34m(\u001b[0m\u001b[0;34m)\u001b[0m\u001b[0;34m\u001b[0m\u001b[0;34m\u001b[0m\u001b[0m\n\u001b[0;32m----> 2\u001b[0;31m \u001b[0mc1\u001b[0m\u001b[0;34m.\u001b[0m\u001b[0mconvert_menu\u001b[0m\u001b[0;34m(\u001b[0m\u001b[0;34m'root_output.root'\u001b[0m\u001b[0;34m,\u001b[0m\u001b[0;34m'lhe_output.lhe'\u001b[0m\u001b[0;34m,\u001b[0m\u001b[0;34m'ROOT'\u001b[0m\u001b[0;34m,\u001b[0m\u001b[0;34m'LHE'\u001b[0m\u001b[0;34m)\u001b[0m\u001b[0;34m\u001b[0m\u001b[0;34m\u001b[0m\u001b[0m\n\u001b[0m",
      "\u001b[0;32m/tmp/ipykernel_20815/2068455488.py\u001b[0m in \u001b[0;36mconvert_menu\u001b[0;34m(self, input_file, output_file, input_format, output_format)\u001b[0m\n\u001b[1;32m    155\u001b[0m         \u001b[0moutput_format\u001b[0m \u001b[0;34m=\u001b[0m \u001b[0mself\u001b[0m\u001b[0;34m.\u001b[0m\u001b[0msanitize_format\u001b[0m\u001b[0;34m(\u001b[0m\u001b[0moutput_format\u001b[0m\u001b[0;34m)\u001b[0m\u001b[0;34m\u001b[0m\u001b[0;34m\u001b[0m\u001b[0m\n\u001b[1;32m    156\u001b[0m \u001b[0;34m\u001b[0m\u001b[0m\n\u001b[0;32m--> 157\u001b[0;31m         \u001b[0mself\u001b[0m\u001b[0;34m.\u001b[0m\u001b[0mconvert_dict\u001b[0m\u001b[0;34m[\u001b[0m\u001b[0minput_format\u001b[0m\u001b[0;34m]\u001b[0m\u001b[0;34m[\u001b[0m\u001b[0moutput_format\u001b[0m\u001b[0;34m]\u001b[0m\u001b[0;34m(\u001b[0m\u001b[0;34m)\u001b[0m\u001b[0;34m\u001b[0m\u001b[0;34m\u001b[0m\u001b[0m\n\u001b[0m\u001b[1;32m    158\u001b[0m \u001b[0;34m\u001b[0m\u001b[0m\n",
      "\u001b[0;32m/tmp/ipykernel_20815/2068455488.py\u001b[0m in \u001b[0;36mconvert_root_lhe\u001b[0;34m(self)\u001b[0m\n\u001b[1;32m     60\u001b[0m         \u001b[0;32mwith\u001b[0m \u001b[0mopen\u001b[0m\u001b[0;34m(\u001b[0m\u001b[0mself\u001b[0m\u001b[0;34m.\u001b[0m\u001b[0minput_file\u001b[0m\u001b[0;34m,\u001b[0m \u001b[0;34m\"r\"\u001b[0m\u001b[0;34m)\u001b[0m \u001b[0;32mas\u001b[0m \u001b[0mfhin\u001b[0m\u001b[0;34m:\u001b[0m\u001b[0;34m\u001b[0m\u001b[0;34m\u001b[0m\u001b[0m\n\u001b[1;32m     61\u001b[0m             \u001b[0miline\u001b[0m \u001b[0;34m=\u001b[0m \u001b[0;36m0\u001b[0m\u001b[0;34m\u001b[0m\u001b[0;34m\u001b[0m\u001b[0m\n\u001b[0;32m---> 62\u001b[0;31m             \u001b[0;32mfor\u001b[0m \u001b[0mline\u001b[0m \u001b[0;32min\u001b[0m \u001b[0mtqdm\u001b[0m\u001b[0;34m(\u001b[0m\u001b[0mfhin\u001b[0m\u001b[0;34m)\u001b[0m\u001b[0;34m:\u001b[0m\u001b[0;34m\u001b[0m\u001b[0;34m\u001b[0m\u001b[0m\n\u001b[0m\u001b[1;32m     63\u001b[0m \u001b[0;34m\u001b[0m\u001b[0m\n\u001b[1;32m     64\u001b[0m                 \u001b[0;32mif\u001b[0m \u001b[0min_event\u001b[0m \u001b[0;32mand\u001b[0m \u001b[0mline\u001b[0m\u001b[0;34m.\u001b[0m\u001b[0mstartswith\u001b[0m\u001b[0;34m(\u001b[0m\u001b[0;34m\"<\"\u001b[0m\u001b[0;34m)\u001b[0m\u001b[0;34m:\u001b[0m\u001b[0;34m\u001b[0m\u001b[0;34m\u001b[0m\u001b[0m\n",
      "\u001b[0;32m~/.local/lib/python3.8/site-packages/tqdm/std.py\u001b[0m in \u001b[0;36m__iter__\u001b[0;34m(self)\u001b[0m\n\u001b[1;32m   1183\u001b[0m \u001b[0;34m\u001b[0m\u001b[0m\n\u001b[1;32m   1184\u001b[0m         \u001b[0;32mtry\u001b[0m\u001b[0;34m:\u001b[0m\u001b[0;34m\u001b[0m\u001b[0;34m\u001b[0m\u001b[0m\n\u001b[0;32m-> 1185\u001b[0;31m             \u001b[0;32mfor\u001b[0m \u001b[0mobj\u001b[0m \u001b[0;32min\u001b[0m \u001b[0miterable\u001b[0m\u001b[0;34m:\u001b[0m\u001b[0;34m\u001b[0m\u001b[0;34m\u001b[0m\u001b[0m\n\u001b[0m\u001b[1;32m   1186\u001b[0m                 \u001b[0;32myield\u001b[0m \u001b[0mobj\u001b[0m\u001b[0;34m\u001b[0m\u001b[0;34m\u001b[0m\u001b[0m\n\u001b[1;32m   1187\u001b[0m                 \u001b[0;31m# Update and possibly print the progressbar.\u001b[0m\u001b[0;34m\u001b[0m\u001b[0;34m\u001b[0m\u001b[0;34m\u001b[0m\u001b[0m\n",
      "\u001b[0;32m/usr/lib/python3.8/codecs.py\u001b[0m in \u001b[0;36mdecode\u001b[0;34m(self, input, final)\u001b[0m\n\u001b[1;32m    320\u001b[0m         \u001b[0;31m# decode input (taking the buffer into account)\u001b[0m\u001b[0;34m\u001b[0m\u001b[0;34m\u001b[0m\u001b[0;34m\u001b[0m\u001b[0m\n\u001b[1;32m    321\u001b[0m         \u001b[0mdata\u001b[0m \u001b[0;34m=\u001b[0m \u001b[0mself\u001b[0m\u001b[0;34m.\u001b[0m\u001b[0mbuffer\u001b[0m \u001b[0;34m+\u001b[0m \u001b[0minput\u001b[0m\u001b[0;34m\u001b[0m\u001b[0;34m\u001b[0m\u001b[0m\n\u001b[0;32m--> 322\u001b[0;31m         \u001b[0;34m(\u001b[0m\u001b[0mresult\u001b[0m\u001b[0;34m,\u001b[0m \u001b[0mconsumed\u001b[0m\u001b[0;34m)\u001b[0m \u001b[0;34m=\u001b[0m \u001b[0mself\u001b[0m\u001b[0;34m.\u001b[0m\u001b[0m_buffer_decode\u001b[0m\u001b[0;34m(\u001b[0m\u001b[0mdata\u001b[0m\u001b[0;34m,\u001b[0m \u001b[0mself\u001b[0m\u001b[0;34m.\u001b[0m\u001b[0merrors\u001b[0m\u001b[0;34m,\u001b[0m \u001b[0mfinal\u001b[0m\u001b[0;34m)\u001b[0m\u001b[0;34m\u001b[0m\u001b[0;34m\u001b[0m\u001b[0m\n\u001b[0m\u001b[1;32m    323\u001b[0m         \u001b[0;31m# keep undecoded input until the next call\u001b[0m\u001b[0;34m\u001b[0m\u001b[0;34m\u001b[0m\u001b[0;34m\u001b[0m\u001b[0m\n\u001b[1;32m    324\u001b[0m         \u001b[0mself\u001b[0m\u001b[0;34m.\u001b[0m\u001b[0mbuffer\u001b[0m \u001b[0;34m=\u001b[0m \u001b[0mdata\u001b[0m\u001b[0;34m[\u001b[0m\u001b[0mconsumed\u001b[0m\u001b[0;34m:\u001b[0m\u001b[0;34m]\u001b[0m\u001b[0;34m\u001b[0m\u001b[0;34m\u001b[0m\u001b[0m\n",
      "\u001b[0;31mUnicodeDecodeError\u001b[0m: 'utf-8' codec can't decode byte 0xf3 in position 6: invalid continuation byte"
     ]
    }
   ],
   "source": [
    "c1 = Convert()\n",
    "c1.convert_menu('root_output.root','lhe_output.lhe','ROOT','LHE')"
   ]
  },
  {
   "cell_type": "code",
   "execution_count": null,
   "metadata": {},
   "outputs": [],
   "source": [
    "r"
   ]
  }
 ],
 "metadata": {
  "interpreter": {
   "hash": "31f2aee4e71d21fbe5cf8b01ff0e069b9275f58929596ceb00d14d90e3e16cd6"
  },
  "kernelspec": {
   "display_name": "Python 3.8.10 64-bit",
   "language": "python",
   "name": "python3"
  },
  "language_info": {
   "codemirror_mode": {
    "name": "ipython",
    "version": 3
   },
   "file_extension": ".py",
   "mimetype": "text/x-python",
   "name": "python",
   "nbconvert_exporter": "python",
   "pygments_lexer": "ipython3",
   "version": "3.8.10"
  },
  "orig_nbformat": 4
 },
 "nbformat": 4,
 "nbformat_minor": 2
}
